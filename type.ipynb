{
 "cells": [
  {
   "cell_type": "code",
   "execution_count": 36,
   "id": "e55a9378",
   "metadata": {
    "scrolled": true
   },
   "outputs": [
    {
     "name": "stdout",
     "output_type": "stream",
     "text": [
      "[ 9 10 11 12 13 14 15 16]\n"
     ]
    },
    {
     "data": {
      "text/plain": [
       "9      81\n",
       "10    100\n",
       "11    121\n",
       "12    144\n",
       "13    169\n",
       "14    196\n",
       "15    225\n",
       "16    256\n",
       "dtype: int32"
      ]
     },
     "execution_count": 36,
     "metadata": {},
     "output_type": "execute_result"
    }
   ],
   "source": [
    "a = np.arange(9,17)\n",
    "print(a)\n",
    "s = pd.Series(data = a**2,index=a)\n",
    "s"
   ]
  },
  {
   "cell_type": "code",
   "execution_count": 14,
   "id": "330dc694",
   "metadata": {},
   "outputs": [
    {
     "name": "stdout",
     "output_type": "stream",
     "text": [
      "A    6700.0\n",
      "B    5600.0\n",
      "C    5000.0\n",
      "D    5200.0\n",
      "dtype: float64\n"
     ]
    }
   ],
   "source": [
    "import pandas as pd\n",
    "import numpy as np\n",
    "\n",
    "section=['A','B','C','D']\n",
    "\n",
    "contri=[6700,5600,5000,5200]\n",
    "\n",
    "s=pd.Series(data=contri, index=section, dtype = np.float64)\n",
    "\n",
    "print(s)\n"
   ]
  },
  {
   "cell_type": "code",
   "execution_count": 54,
   "id": "4ce60394",
   "metadata": {},
   "outputs": [
    {
     "name": "stdout",
     "output_type": "stream",
     "text": [
      "12\n",
      "10\n",
      "22\n",
      "120\n",
      "1.2\n",
      "2\n",
      "2\n",
      "1\n",
      "64\n"
     ]
    }
   ],
   "source": [
    "a = 12\n",
    "b = 10\n",
    "print(a)\n",
    "print(b)\n",
    "print(a+b)\n",
    "print(a*b)\n",
    "print(a/b)\n",
    "print(a-b)\n",
    "print(a%b)\n",
    "print(a//b)\n",
    "print(2**6)"
   ]
  },
  {
   "cell_type": "code",
   "execution_count": 56,
   "id": "745bea94",
   "metadata": {},
   "outputs": [
    {
     "name": "stdout",
     "output_type": "stream",
     "text": [
      "0    11\n",
      "1    12\n",
      "2    13\n",
      "dtype: int64\n"
     ]
    }
   ],
   "source": [
    "s1 = pd.Series([11, 12, 13])\n",
    "print(s1)"
   ]
  },
  {
   "cell_type": "code",
   "execution_count": 57,
   "id": "a7810607",
   "metadata": {},
   "outputs": [
    {
     "name": "stdout",
     "output_type": "stream",
     "text": [
      "0    11.1\n",
      "1    12.2\n",
      "2    13.3\n",
      "dtype: float64\n"
     ]
    }
   ],
   "source": [
    "s2 = pd.Series([11.1, 12.2, 13.3])\n",
    "print(s2)"
   ]
  },
  {
   "cell_type": "code",
   "execution_count": 58,
   "id": "181b3f8c",
   "metadata": {},
   "outputs": [
    {
     "name": "stdout",
     "output_type": "stream",
     "text": [
      "0    11.0\n",
      "1    12.0\n",
      "2    13.3\n",
      "dtype: float64\n"
     ]
    }
   ],
   "source": [
    "s3 = pd.Series([11, 12, 13.3])\n",
    "print(s3)"
   ]
  }
 ],
 "metadata": {
  "kernelspec": {
   "display_name": "Python 3",
   "language": "python",
   "name": "python3"
  },
  "language_info": {
   "codemirror_mode": {
    "name": "ipython",
    "version": 3
   },
   "file_extension": ".py",
   "mimetype": "text/x-python",
   "name": "python",
   "nbconvert_exporter": "python",
   "pygments_lexer": "ipython3",
   "version": "3.8.8"
  }
 },
 "nbformat": 4,
 "nbformat_minor": 5
}
