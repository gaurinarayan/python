{
 "cells": [
  {
   "cell_type": "code",
   "execution_count": 44,
   "id": "7c01a629",
   "metadata": {},
   "outputs": [
    {
     "data": {
      "text/plain": [
       "p    8\n",
       "s    7\n",
       "g    5\n",
       "a    4\n",
       "q    9\n",
       "dtype: int64"
      ]
     },
     "execution_count": 44,
     "metadata": {},
     "output_type": "execute_result"
    }
   ],
   "source": [
    "import pandas as pd\n",
    "a1 = [8,7,5,4,9]\n",
    "s1 = pd.Series(a1, index = ['p','s','g','a','q']);\n",
    "s1"
   ]
  },
  {
   "cell_type": "code",
   "execution_count": 19,
   "id": "f8a1979d",
   "metadata": {
    "scrolled": false
   },
   "outputs": [
    {
     "data": {
      "text/plain": [
       "4"
      ]
     },
     "execution_count": 19,
     "metadata": {},
     "output_type": "execute_result"
    }
   ],
   "source": [
    "s1['a']"
   ]
  },
  {
   "cell_type": "code",
   "execution_count": 24,
   "id": "f902c17d",
   "metadata": {},
   "outputs": [
    {
     "data": {
      "text/plain": [
       "s    7\n",
       "g    5\n",
       "a    4\n",
       "q    9\n",
       "dtype: int64"
      ]
     },
     "execution_count": 24,
     "metadata": {},
     "output_type": "execute_result"
    }
   ],
   "source": [
    "s1[1:]"
   ]
  },
  {
   "cell_type": "code",
   "execution_count": 26,
   "id": "5b9917d6",
   "metadata": {},
   "outputs": [
    {
     "data": {
      "text/plain": [
       "g    5\n",
       "a    4\n",
       "dtype: int64"
      ]
     },
     "execution_count": 26,
     "metadata": {},
     "output_type": "execute_result"
    }
   ],
   "source": [
    "s1[2:4]"
   ]
  },
  {
   "cell_type": "code",
   "execution_count": 32,
   "id": "77f5cae1",
   "metadata": {},
   "outputs": [
    {
     "data": {
      "text/plain": [
       "p    8\n",
       "s    7\n",
       "g    5\n",
       "a    4\n",
       "dtype: int64"
      ]
     },
     "execution_count": 32,
     "metadata": {},
     "output_type": "execute_result"
    }
   ],
   "source": [
    "s1[:4]"
   ]
  },
  {
   "cell_type": "code",
   "execution_count": 34,
   "id": "3d2abb63",
   "metadata": {},
   "outputs": [
    {
     "data": {
      "text/plain": [
       "p    8\n",
       "g    5\n",
       "q    9\n",
       "dtype: int64"
      ]
     },
     "execution_count": 34,
     "metadata": {},
     "output_type": "execute_result"
    }
   ],
   "source": [
    "s1[ : :2]"
   ]
  },
  {
   "cell_type": "code",
   "execution_count": 36,
   "id": "d8d5674d",
   "metadata": {},
   "outputs": [
    {
     "data": {
      "text/plain": [
       "p    8\n",
       "s    7\n",
       "g    5\n",
       "dtype: int64"
      ]
     },
     "execution_count": 36,
     "metadata": {},
     "output_type": "execute_result"
    }
   ],
   "source": [
    "s1[: -2]"
   ]
  },
  {
   "cell_type": "code",
   "execution_count": 37,
   "id": "ba596459",
   "metadata": {},
   "outputs": [
    {
     "data": {
      "text/plain": [
       "q    9\n",
       "a    4\n",
       "g    5\n",
       "s    7\n",
       "p    8\n",
       "dtype: int64"
      ]
     },
     "execution_count": 37,
     "metadata": {},
     "output_type": "execute_result"
    }
   ],
   "source": [
    "s1[ : : -1]"
   ]
  },
  {
   "cell_type": "code",
   "execution_count": 48,
   "id": "18f43fa5",
   "metadata": {},
   "outputs": [
    {
     "data": {
      "text/plain": [
       "p    41\n",
       "s    40\n",
       "dtype: int64"
      ]
     },
     "execution_count": 48,
     "metadata": {},
     "output_type": "execute_result"
    }
   ],
   "source": [
    "s1[:2]+33"
   ]
  },
  {
   "cell_type": "code",
   "execution_count": 49,
   "id": "fee9d9d8",
   "metadata": {},
   "outputs": [
    {
     "data": {
      "text/plain": [
       "p    264\n",
       "s    231\n",
       "dtype: int64"
      ]
     },
     "execution_count": 49,
     "metadata": {},
     "output_type": "execute_result"
    }
   ],
   "source": [
    "s1[:2]*33"
   ]
  },
  {
   "cell_type": "code",
   "execution_count": 54,
   "id": "ef4ff3a3",
   "metadata": {},
   "outputs": [
    {
     "data": {
      "text/plain": [
       "p    10\n",
       "s    10\n",
       "g     5\n",
       "a     4\n",
       "q     9\n",
       "dtype: int64"
      ]
     },
     "execution_count": 54,
     "metadata": {},
     "output_type": "execute_result"
    }
   ],
   "source": [
    "s1['s'] = 10\n",
    "s1"
   ]
  },
  {
   "cell_type": "code",
   "execution_count": 56,
   "id": "d383b475",
   "metadata": {},
   "outputs": [
    {
     "data": {
      "text/plain": [
       "p     10\n",
       "s     10\n",
       "g    100\n",
       "a    100\n",
       "q    100\n",
       "dtype: int64"
      ]
     },
     "execution_count": 56,
     "metadata": {},
     "output_type": "execute_result"
    }
   ],
   "source": [
    "s1[2:] = 100\n",
    "s1"
   ]
  },
  {
   "cell_type": "code",
   "execution_count": 62,
   "id": "4d102362",
   "metadata": {},
   "outputs": [
    {
     "data": {
      "text/plain": [
       "p     10\n",
       "s     10\n",
       "g    100\n",
       "a    100\n",
       "q    100\n",
       "dtype: int64"
      ]
     },
     "execution_count": 62,
     "metadata": {},
     "output_type": "execute_result"
    }
   ],
   "source": [
    "s1.head() # default value 5  "
   ]
  },
  {
   "cell_type": "code",
   "execution_count": 63,
   "id": "a245835b",
   "metadata": {},
   "outputs": [
    {
     "data": {
      "text/plain": [
       "p     10\n",
       "s     10\n",
       "g    100\n",
       "dtype: int64"
      ]
     },
     "execution_count": 63,
     "metadata": {},
     "output_type": "execute_result"
    }
   ],
   "source": [
    "s1.head(3)"
   ]
  },
  {
   "cell_type": "code",
   "execution_count": 67,
   "id": "a987c466",
   "metadata": {},
   "outputs": [
    {
     "data": {
      "text/plain": [
       "p     10\n",
       "s     10\n",
       "g    100\n",
       "a    100\n",
       "q    100\n",
       "dtype: int64"
      ]
     },
     "execution_count": 67,
     "metadata": {},
     "output_type": "execute_result"
    }
   ],
   "source": [
    "s1.tail()"
   ]
  },
  {
   "cell_type": "code",
   "execution_count": 68,
   "id": "cd0d6b70",
   "metadata": {},
   "outputs": [
    {
     "data": {
      "text/plain": [
       "s     10\n",
       "g    100\n",
       "a    100\n",
       "q    100\n",
       "dtype: int64"
      ]
     },
     "execution_count": 68,
     "metadata": {},
     "output_type": "execute_result"
    }
   ],
   "source": [
    "s1.tail(4)"
   ]
  },
  {
   "cell_type": "code",
   "execution_count": 70,
   "id": "4580a252",
   "metadata": {},
   "outputs": [
    {
     "data": {
      "text/plain": [
       "p     10\n",
       "s     10\n",
       "g    100\n",
       "a    100\n",
       "q    100\n",
       "dtype: int64"
      ]
     },
     "execution_count": 70,
     "metadata": {},
     "output_type": "execute_result"
    }
   ],
   "source": [
    "s1 \n"
   ]
  },
  {
   "cell_type": "code",
   "execution_count": 71,
   "id": "41487293",
   "metadata": {},
   "outputs": [
    {
     "data": {
      "text/plain": [
       "p     12\n",
       "s     12\n",
       "g    102\n",
       "a    102\n",
       "q    102\n",
       "dtype: int64"
      ]
     },
     "execution_count": 71,
     "metadata": {},
     "output_type": "execute_result"
    }
   ],
   "source": [
    "s1 + 2"
   ]
  },
  {
   "cell_type": "code",
   "execution_count": 72,
   "id": "c06f5f40",
   "metadata": {},
   "outputs": [
    {
     "data": {
      "text/plain": [
       "p     30\n",
       "s     30\n",
       "g    300\n",
       "a    300\n",
       "q    300\n",
       "dtype: int64"
      ]
     },
     "execution_count": 72,
     "metadata": {},
     "output_type": "execute_result"
    }
   ],
   "source": [
    "s1 * 3"
   ]
  },
  {
   "cell_type": "code",
   "execution_count": 73,
   "id": "d3acb171",
   "metadata": {},
   "outputs": [
    {
     "data": {
      "text/plain": [
       "p    False\n",
       "s    False\n",
       "g     True\n",
       "a     True\n",
       "q     True\n",
       "dtype: bool"
      ]
     },
     "execution_count": 73,
     "metadata": {},
     "output_type": "execute_result"
    }
   ],
   "source": [
    "s1 > 15"
   ]
  },
  {
   "cell_type": "code",
   "execution_count": 80,
   "id": "43e0210f",
   "metadata": {},
   "outputs": [
    {
     "data": {
      "text/plain": [
       "p            10000000000\n",
       "s            10000000000\n",
       "g    7766279631452241920\n",
       "a    7766279631452241920\n",
       "q    7766279631452241920\n",
       "dtype: int64"
      ]
     },
     "execution_count": 80,
     "metadata": {},
     "output_type": "execute_result"
    }
   ],
   "source": [
    "s1 ** 10"
   ]
  },
  {
   "cell_type": "markdown",
   "id": "c6f0b810",
   "metadata": {},
   "source": [
    "# "
   ]
  },
  {
   "cell_type": "code",
   "execution_count": 81,
   "id": "883a58a3",
   "metadata": {},
   "outputs": [
    {
     "data": {
      "text/plain": [
       "p     True\n",
       "s     True\n",
       "g    False\n",
       "a    False\n",
       "q    False\n",
       "dtype: bool"
      ]
     },
     "execution_count": 81,
     "metadata": {},
     "output_type": "execute_result"
    }
   ],
   "source": [
    "s1<100"
   ]
  },
  {
   "cell_type": "code",
   "execution_count": 94,
   "id": "d1490866",
   "metadata": {},
   "outputs": [
    {
     "data": {
      "text/plain": [
       "a    23\n",
       "g    25\n",
       "s    27\n",
       "dtype: int64"
      ]
     },
     "execution_count": 94,
     "metadata": {},
     "output_type": "execute_result"
    }
   ],
   "source": [
    "s2 = pd.Series([23,25,27], index=['a','g','s'])\n",
    "s2"
   ]
  },
  {
   "cell_type": "code",
   "execution_count": 95,
   "id": "18bf9d15",
   "metadata": {},
   "outputs": [
    {
     "data": {
      "text/plain": [
       "p     10\n",
       "s     10\n",
       "g    100\n",
       "a    100\n",
       "q    100\n",
       "dtype: int64"
      ]
     },
     "execution_count": 95,
     "metadata": {},
     "output_type": "execute_result"
    }
   ],
   "source": [
    "s1"
   ]
  },
  {
   "cell_type": "code",
   "execution_count": 96,
   "id": "d12dcc7e",
   "metadata": {},
   "outputs": [
    {
     "data": {
      "text/plain": [
       "a    123.0\n",
       "g    125.0\n",
       "p      NaN\n",
       "q      NaN\n",
       "s     37.0\n",
       "dtype: float64"
      ]
     },
     "execution_count": 96,
     "metadata": {},
     "output_type": "execute_result"
    }
   ],
   "source": [
    "s1+s2"
   ]
  },
  {
   "cell_type": "code",
   "execution_count": 97,
   "id": "f134524d",
   "metadata": {},
   "outputs": [
    {
     "data": {
      "text/plain": [
       "a    2300.0\n",
       "g    2500.0\n",
       "p       NaN\n",
       "q       NaN\n",
       "s     270.0\n",
       "dtype: float64"
      ]
     },
     "execution_count": 97,
     "metadata": {},
     "output_type": "execute_result"
    }
   ],
   "source": [
    "s1 * s2"
   ]
  },
  {
   "cell_type": "code",
   "execution_count": 98,
   "id": "c3309829",
   "metadata": {},
   "outputs": [
    {
     "data": {
      "text/plain": [
       "a    1.000000e+46\n",
       "g    1.000000e+50\n",
       "p             NaN\n",
       "q             NaN\n",
       "s    1.000000e+27\n",
       "dtype: float64"
      ]
     },
     "execution_count": 98,
     "metadata": {},
     "output_type": "execute_result"
    }
   ],
   "source": [
    "s1 ** s2"
   ]
  },
  {
   "cell_type": "code",
   "execution_count": 100,
   "id": "3d5bd0e7",
   "metadata": {},
   "outputs": [
    {
     "data": {
      "text/plain": [
       "a    0.23\n",
       "g    0.25\n",
       "p     NaN\n",
       "q     NaN\n",
       "s    2.70\n",
       "dtype: float64"
      ]
     },
     "execution_count": 100,
     "metadata": {},
     "output_type": "execute_result"
    }
   ],
   "source": [
    "s2 / s1"
   ]
  }
 ],
 "metadata": {
  "kernelspec": {
   "display_name": "Python 3",
   "language": "python",
   "name": "python3"
  },
  "language_info": {
   "codemirror_mode": {
    "name": "ipython",
    "version": 3
   },
   "file_extension": ".py",
   "mimetype": "text/x-python",
   "name": "python",
   "nbconvert_exporter": "python",
   "pygments_lexer": "ipython3",
   "version": "3.8.8"
  }
 },
 "nbformat": 4,
 "nbformat_minor": 5
}
