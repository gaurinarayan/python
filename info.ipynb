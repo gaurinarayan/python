{
 "cells": [
  {
   "cell_type": "code",
   "execution_count": 45,
   "id": "4d2f3717",
   "metadata": {},
   "outputs": [
    {
     "name": "stdout",
     "output_type": "stream",
     "text": [
      "0    41\n",
      "1    30\n",
      "2    51\n",
      "dtype: int64\n"
     ]
    }
   ],
   "source": [
    "import pandas as pd\n",
    "import numpy as np\n",
    "info=pd.Series(data=[41,30,51])\n",
    "print(info)"
   ]
  },
  {
   "cell_type": "code",
   "execution_count": 18,
   "id": "f537ac87",
   "metadata": {},
   "outputs": [
    {
     "name": "stdout",
     "output_type": "stream",
     "text": [
      "0     True\n",
      "1    False\n",
      "2     True\n",
      "dtype: bool\n"
     ]
    }
   ],
   "source": [
    "print(info>40)"
   ]
  },
  {
   "cell_type": "code",
   "execution_count": 19,
   "id": "2c71b6e4",
   "metadata": {},
   "outputs": [
    {
     "name": "stdout",
     "output_type": "stream",
     "text": [
      "0     True\n",
      "1    False\n",
      "2    False\n",
      "dtype: bool\n"
     ]
    }
   ],
   "source": [
    "print(info == 41)"
   ]
  },
  {
   "cell_type": "code",
   "execution_count": 20,
   "id": "b2ba556c",
   "metadata": {},
   "outputs": [
    {
     "name": "stdout",
     "output_type": "stream",
     "text": [
      "0    False\n",
      "1     True\n",
      "2    False\n",
      "dtype: bool\n"
     ]
    }
   ],
   "source": [
    "print(info<40)"
   ]
  },
  {
   "cell_type": "code",
   "execution_count": 21,
   "id": "03db1eb3",
   "metadata": {},
   "outputs": [
    {
     "name": "stdout",
     "output_type": "stream",
     "text": [
      "0    41\n",
      "2    51\n",
      "dtype: int64\n"
     ]
    }
   ],
   "source": [
    "print(info[info>40])"
   ]
  },
  {
   "cell_type": "code",
   "execution_count": 22,
   "id": "fbb435a1",
   "metadata": {},
   "outputs": [
    {
     "data": {
      "text/plain": [
       "1    30\n",
       "0    41\n",
       "2    51\n",
       "dtype: int64"
      ]
     },
     "execution_count": 22,
     "metadata": {},
     "output_type": "execute_result"
    }
   ],
   "source": [
    "# ascending order\n",
    "info.sort_values()"
   ]
  },
  {
   "cell_type": "code",
   "execution_count": 26,
   "id": "7b01a1fc",
   "metadata": {},
   "outputs": [
    {
     "data": {
      "text/plain": [
       "1    30\n",
       "0    41\n",
       "2    51\n",
       "dtype: int64"
      ]
     },
     "execution_count": 26,
     "metadata": {},
     "output_type": "execute_result"
    }
   ],
   "source": [
    "# ascending order\n",
    "info.sort_values(ascending=True)"
   ]
  },
  {
   "cell_type": "code",
   "execution_count": 24,
   "id": "0699c046",
   "metadata": {},
   "outputs": [
    {
     "data": {
      "text/plain": [
       "2    51\n",
       "0    41\n",
       "1    30\n",
       "dtype: int64"
      ]
     },
     "execution_count": 24,
     "metadata": {},
     "output_type": "execute_result"
    }
   ],
   "source": [
    "# descending order\n",
    "info.sort_values(ascending=False)"
   ]
  },
  {
   "cell_type": "code",
   "execution_count": 51,
   "id": "ed9fe469",
   "metadata": {},
   "outputs": [
    {
     "data": {
      "text/plain": [
       "Index(['a', 'b', 'c'], dtype='object')"
      ]
     },
     "execution_count": 51,
     "metadata": {},
     "output_type": "execute_result"
    }
   ],
   "source": [
    "info.index"
   ]
  },
  {
   "cell_type": "code",
   "execution_count": 49,
   "id": "cd5fe525",
   "metadata": {},
   "outputs": [
    {
     "data": {
      "text/plain": [
       "Index(['a', 'b', 'c'], dtype='object')"
      ]
     },
     "execution_count": 49,
     "metadata": {},
     "output_type": "execute_result"
    }
   ],
   "source": [
    "info.index = ['a','b','c']\n",
    "info.index"
   ]
  },
  {
   "cell_type": "code",
   "execution_count": 68,
   "id": "dde832a0",
   "metadata": {},
   "outputs": [
    {
     "data": {
      "text/plain": [
       "b    30\n",
       "b    30\n",
       "c    51\n",
       "dtype: int64"
      ]
     },
     "execution_count": 68,
     "metadata": {},
     "output_type": "execute_result"
    }
   ],
   "source": [
    "s = pd.Series(data=[45,56,67], index=[1,2,3])\n",
    "s = info.reindex(['b','b','c'])\n",
    "s"
   ]
  },
  {
   "cell_type": "code",
   "execution_count": 32,
   "id": "3c578034",
   "metadata": {},
   "outputs": [
    {
     "data": {
      "text/plain": [
       "1    30\n",
       "2    51\n",
       "dtype: int64"
      ]
     },
     "execution_count": 32,
     "metadata": {},
     "output_type": "execute_result"
    }
   ],
   "source": [
    "info.drop(0)"
   ]
  }
 ],
 "metadata": {
  "kernelspec": {
   "display_name": "Python 3",
   "language": "python",
   "name": "python3"
  },
  "language_info": {
   "codemirror_mode": {
    "name": "ipython",
    "version": 3
   },
   "file_extension": ".py",
   "mimetype": "text/x-python",
   "name": "python",
   "nbconvert_exporter": "python",
   "pygments_lexer": "ipython3",
   "version": "3.8.8"
  }
 },
 "nbformat": 4,
 "nbformat_minor": 5
}
