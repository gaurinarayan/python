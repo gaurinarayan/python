{
 "cells": [
  {
   "cell_type": "code",
   "execution_count": 4,
   "id": "34f924c2",
   "metadata": {},
   "outputs": [
    {
     "name": "stdout",
     "output_type": "stream",
     "text": [
      "Enter your name? raj\n"
     ]
    }
   ],
   "source": [
    "name = input(\"Enter your name? \")"
   ]
  },
  {
   "cell_type": "code",
   "execution_count": 2,
   "id": "f6279681",
   "metadata": {},
   "outputs": [
    {
     "data": {
      "text/plain": [
       "'raj'"
      ]
     },
     "execution_count": 2,
     "metadata": {},
     "output_type": "execute_result"
    }
   ],
   "source": [
    "name"
   ]
  },
  {
   "cell_type": "code",
   "execution_count": 3,
   "id": "fb54d80e",
   "metadata": {},
   "outputs": [
    {
     "name": "stdout",
     "output_type": "stream",
     "text": [
      "raj\n"
     ]
    }
   ],
   "source": [
    "print(name)"
   ]
  },
  {
   "cell_type": "code",
   "execution_count": 11,
   "id": "d7460db8",
   "metadata": {},
   "outputs": [
    {
     "name": "stdout",
     "output_type": "stream",
     "text": [
      "Enter your favorite color? red\n"
     ]
    }
   ],
   "source": [
    "color = input(\"Enter your favorite color? \")"
   ]
  },
  {
   "cell_type": "code",
   "execution_count": 13,
   "id": "373f41b7",
   "metadata": {},
   "outputs": [
    {
     "data": {
      "text/plain": [
       "'red'"
      ]
     },
     "execution_count": 13,
     "metadata": {},
     "output_type": "execute_result"
    }
   ],
   "source": [
    "color"
   ]
  },
  {
   "cell_type": "code",
   "execution_count": 14,
   "id": "0aca9127",
   "metadata": {},
   "outputs": [
    {
     "name": "stdout",
     "output_type": "stream",
     "text": [
      "red\n"
     ]
    }
   ],
   "source": [
    "print(color)"
   ]
  },
  {
   "cell_type": "code",
   "execution_count": 15,
   "id": "f7d0c570",
   "metadata": {},
   "outputs": [],
   "source": [
    "message = name + \" likes \" + color + \" color\""
   ]
  },
  {
   "cell_type": "code",
   "execution_count": 10,
   "id": "0c961bc5",
   "metadata": {},
   "outputs": [
    {
     "data": {
      "text/plain": [
       "'raj likes grey color'"
      ]
     },
     "execution_count": 10,
     "metadata": {},
     "output_type": "execute_result"
    }
   ],
   "source": [
    "message"
   ]
  },
  {
   "cell_type": "code",
   "execution_count": 16,
   "id": "408bfac8",
   "metadata": {},
   "outputs": [
    {
     "name": "stdout",
     "output_type": "stream",
     "text": [
      "raj likes red color\n"
     ]
    }
   ],
   "source": [
    "print(message)"
   ]
  },
  {
   "cell_type": "code",
   "execution_count": 17,
   "id": "e652a012",
   "metadata": {},
   "outputs": [
    {
     "name": "stdout",
     "output_type": "stream",
     "text": [
      "Enter your name? abhishek\n",
      "Enter your favorite color? blue\n",
      "abhishek likes blue color\n"
     ]
    }
   ],
   "source": [
    "name = input(\"Enter your name? \")\n",
    "color = input(\"Enter your favorite color? \")\n",
    "message = name + \" likes \" + color + \" color\"\n",
    "print(message)"
   ]
  }
 ],
 "metadata": {
  "kernelspec": {
   "display_name": "Python 3",
   "language": "python",
   "name": "python3"
  },
  "language_info": {
   "codemirror_mode": {
    "name": "ipython",
    "version": 3
   },
   "file_extension": ".py",
   "mimetype": "text/x-python",
   "name": "python",
   "nbconvert_exporter": "python",
   "pygments_lexer": "ipython3",
   "version": "3.8.8"
  }
 },
 "nbformat": 4,
 "nbformat_minor": 5
}
